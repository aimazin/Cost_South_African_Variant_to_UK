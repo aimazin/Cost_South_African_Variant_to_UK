{
  "nbformat": 4,
  "nbformat_minor": 0,
  "metadata": {
    "colab": {
      "provenance": [],
      "authorship_tag": "ABX9TyMYPmQrsEEph9MCXFNY2ldJ",
      "include_colab_link": true
    },
    "kernelspec": {
      "name": "python3",
      "display_name": "Python 3"
    },
    "language_info": {
      "name": "python"
    }
  },
  "cells": [
    {
      "cell_type": "markdown",
      "metadata": {
        "id": "view-in-github",
        "colab_type": "text"
      },
      "source": [
        "<a href=\"https://colab.research.google.com/github/aimazin/Cost_South_African_Variant_to_UK/blob/main/The_Cost_of_the_South_African_Variant_on_the_UK.ipynb\" target=\"_parent\"><img src=\"https://colab.research.google.com/assets/colab-badge.svg\" alt=\"Open In Colab\"/></a>"
      ]
    },
    {
      "cell_type": "code",
      "execution_count": 1,
      "metadata": {
        "id": "oA8vytGg3qdd",
        "colab": {
          "base_uri": "https://localhost:8080/"
        },
        "outputId": "9b364e05-3e20-4be1-af72-2782b9dd47f9"
      },
      "outputs": [
        {
          "output_type": "stream",
          "name": "stdout",
          "text": [
            "Looking in indexes: https://pypi.org/simple, https://us-python.pkg.dev/colab-wheels/public/simple/\n",
            "Requirement already satisfied: yfinance in /usr/local/lib/python3.9/dist-packages (0.2.18)\n",
            "Requirement already satisfied: numpy>=1.16.5 in /usr/local/lib/python3.9/dist-packages (from yfinance) (1.22.4)\n",
            "Requirement already satisfied: cryptography>=3.3.2 in /usr/local/lib/python3.9/dist-packages (from yfinance) (40.0.2)\n",
            "Requirement already satisfied: multitasking>=0.0.7 in /usr/local/lib/python3.9/dist-packages (from yfinance) (0.0.11)\n",
            "Requirement already satisfied: pandas>=1.3.0 in /usr/local/lib/python3.9/dist-packages (from yfinance) (1.5.3)\n",
            "Requirement already satisfied: frozendict>=2.3.4 in /usr/local/lib/python3.9/dist-packages (from yfinance) (2.3.7)\n",
            "Requirement already satisfied: requests>=2.26 in /usr/local/lib/python3.9/dist-packages (from yfinance) (2.27.1)\n",
            "Requirement already satisfied: html5lib>=1.1 in /usr/local/lib/python3.9/dist-packages (from yfinance) (1.1)\n",
            "Requirement already satisfied: pytz>=2022.5 in /usr/local/lib/python3.9/dist-packages (from yfinance) (2022.7.1)\n",
            "Requirement already satisfied: beautifulsoup4>=4.11.1 in /usr/local/lib/python3.9/dist-packages (from yfinance) (4.11.2)\n",
            "Requirement already satisfied: lxml>=4.9.1 in /usr/local/lib/python3.9/dist-packages (from yfinance) (4.9.2)\n",
            "Requirement already satisfied: appdirs>=1.4.4 in /usr/local/lib/python3.9/dist-packages (from yfinance) (1.4.4)\n",
            "Requirement already satisfied: soupsieve>1.2 in /usr/local/lib/python3.9/dist-packages (from beautifulsoup4>=4.11.1->yfinance) (2.4.1)\n",
            "Requirement already satisfied: cffi>=1.12 in /usr/local/lib/python3.9/dist-packages (from cryptography>=3.3.2->yfinance) (1.15.1)\n",
            "Requirement already satisfied: webencodings in /usr/local/lib/python3.9/dist-packages (from html5lib>=1.1->yfinance) (0.5.1)\n",
            "Requirement already satisfied: six>=1.9 in /usr/local/lib/python3.9/dist-packages (from html5lib>=1.1->yfinance) (1.16.0)\n",
            "Requirement already satisfied: python-dateutil>=2.8.1 in /usr/local/lib/python3.9/dist-packages (from pandas>=1.3.0->yfinance) (2.8.2)\n",
            "Requirement already satisfied: charset-normalizer~=2.0.0 in /usr/local/lib/python3.9/dist-packages (from requests>=2.26->yfinance) (2.0.12)\n",
            "Requirement already satisfied: idna<4,>=2.5 in /usr/local/lib/python3.9/dist-packages (from requests>=2.26->yfinance) (3.4)\n",
            "Requirement already satisfied: certifi>=2017.4.17 in /usr/local/lib/python3.9/dist-packages (from requests>=2.26->yfinance) (2022.12.7)\n",
            "Requirement already satisfied: urllib3<1.27,>=1.21.1 in /usr/local/lib/python3.9/dist-packages (from requests>=2.26->yfinance) (1.26.15)\n",
            "Requirement already satisfied: pycparser in /usr/local/lib/python3.9/dist-packages (from cffi>=1.12->cryptography>=3.3.2->yfinance) (2.21)\n"
          ]
        }
      ],
      "source": [
        "pip install yfinance"
      ]
    },
    {
      "cell_type": "markdown",
      "source": [
        "# The Cost of the South African Variant on the UK (For possible usage in other Countries and Fields) "
      ],
      "metadata": {
        "id": "anyvhUGBgSq2"
      }
    },
    {
      "cell_type": "markdown",
      "source": [
        "In this paper I shall try to estimate the cost of the South African Variant on the Uk using a Currency perspective and using Fourier Series to create Paulings water suppression equation in order to wipe this slate clean of the blythe.\n",
        "\n",
        "I will also use machine learning technics to show that the discepancy is understood, and the proeed to the Fourier then to Other possble uses."
      ],
      "metadata": {
        "id": "_yz08lNmg5R0"
      }
    },
    {
      "cell_type": "markdown",
      "source": [
        "importing dependencies"
      ],
      "metadata": {
        "id": "Ch2PX5_qeMu2"
      }
    },
    {
      "cell_type": "code",
      "source": [
        "import yfinance as yf\n",
        "import pandas as pd\n",
        "import numpy as np\n",
        "import matplotlib.pyplot as plt\n",
        "import datetime\n",
        " "
      ],
      "metadata": {
        "id": "K4cCud2vm61w"
      },
      "execution_count": 2,
      "outputs": []
    },
    {
      "cell_type": "markdown",
      "source": [
        "### we use GBP/USD because at the time the US was very tight in terms of letting people into their country hence no affect by the South African Variant. Hence a stable counter part to judge the effects of the Variant on the UK."
      ],
      "metadata": {
        "id": "xm6_Bkz2eWUn"
      }
    },
    {
      "cell_type": "code",
      "source": [
        "df=yf.download('GBPUSD=X',start='2020-12-01',end='2022-12-01',interval='1d')[['Open','Close']]\n",
        "df.head()"
      ],
      "metadata": {
        "colab": {
          "base_uri": "https://localhost:8080/",
          "height": 255
        },
        "id": "6HEBN_EHn4QQ",
        "outputId": "1898c5ba-aaff-464a-873e-29144c8f4057"
      },
      "execution_count": 3,
      "outputs": [
        {
          "output_type": "stream",
          "name": "stdout",
          "text": [
            "\r[*********************100%***********************]  1 of 1 completed\n"
          ]
        },
        {
          "output_type": "execute_result",
          "data": {
            "text/plain": [
              "                Open     Close\n",
              "Date                          \n",
              "2020-12-01  1.333725  1.333689\n",
              "2020-12-02  1.342228  1.342264\n",
              "2020-12-03  1.337095  1.337077\n",
              "2020-12-04  1.345261  1.345497\n",
              "2020-12-07  1.341562  1.341742"
            ],
            "text/html": [
              "\n",
              "  <div id=\"df-0033de86-f56b-4281-a002-6a763524f7d6\">\n",
              "    <div class=\"colab-df-container\">\n",
              "      <div>\n",
              "<style scoped>\n",
              "    .dataframe tbody tr th:only-of-type {\n",
              "        vertical-align: middle;\n",
              "    }\n",
              "\n",
              "    .dataframe tbody tr th {\n",
              "        vertical-align: top;\n",
              "    }\n",
              "\n",
              "    .dataframe thead th {\n",
              "        text-align: right;\n",
              "    }\n",
              "</style>\n",
              "<table border=\"1\" class=\"dataframe\">\n",
              "  <thead>\n",
              "    <tr style=\"text-align: right;\">\n",
              "      <th></th>\n",
              "      <th>Open</th>\n",
              "      <th>Close</th>\n",
              "    </tr>\n",
              "    <tr>\n",
              "      <th>Date</th>\n",
              "      <th></th>\n",
              "      <th></th>\n",
              "    </tr>\n",
              "  </thead>\n",
              "  <tbody>\n",
              "    <tr>\n",
              "      <th>2020-12-01</th>\n",
              "      <td>1.333725</td>\n",
              "      <td>1.333689</td>\n",
              "    </tr>\n",
              "    <tr>\n",
              "      <th>2020-12-02</th>\n",
              "      <td>1.342228</td>\n",
              "      <td>1.342264</td>\n",
              "    </tr>\n",
              "    <tr>\n",
              "      <th>2020-12-03</th>\n",
              "      <td>1.337095</td>\n",
              "      <td>1.337077</td>\n",
              "    </tr>\n",
              "    <tr>\n",
              "      <th>2020-12-04</th>\n",
              "      <td>1.345261</td>\n",
              "      <td>1.345497</td>\n",
              "    </tr>\n",
              "    <tr>\n",
              "      <th>2020-12-07</th>\n",
              "      <td>1.341562</td>\n",
              "      <td>1.341742</td>\n",
              "    </tr>\n",
              "  </tbody>\n",
              "</table>\n",
              "</div>\n",
              "      <button class=\"colab-df-convert\" onclick=\"convertToInteractive('df-0033de86-f56b-4281-a002-6a763524f7d6')\"\n",
              "              title=\"Convert this dataframe to an interactive table.\"\n",
              "              style=\"display:none;\">\n",
              "        \n",
              "  <svg xmlns=\"http://www.w3.org/2000/svg\" height=\"24px\"viewBox=\"0 0 24 24\"\n",
              "       width=\"24px\">\n",
              "    <path d=\"M0 0h24v24H0V0z\" fill=\"none\"/>\n",
              "    <path d=\"M18.56 5.44l.94 2.06.94-2.06 2.06-.94-2.06-.94-.94-2.06-.94 2.06-2.06.94zm-11 1L8.5 8.5l.94-2.06 2.06-.94-2.06-.94L8.5 2.5l-.94 2.06-2.06.94zm10 10l.94 2.06.94-2.06 2.06-.94-2.06-.94-.94-2.06-.94 2.06-2.06.94z\"/><path d=\"M17.41 7.96l-1.37-1.37c-.4-.4-.92-.59-1.43-.59-.52 0-1.04.2-1.43.59L10.3 9.45l-7.72 7.72c-.78.78-.78 2.05 0 2.83L4 21.41c.39.39.9.59 1.41.59.51 0 1.02-.2 1.41-.59l7.78-7.78 2.81-2.81c.8-.78.8-2.07 0-2.86zM5.41 20L4 18.59l7.72-7.72 1.47 1.35L5.41 20z\"/>\n",
              "  </svg>\n",
              "      </button>\n",
              "      \n",
              "  <style>\n",
              "    .colab-df-container {\n",
              "      display:flex;\n",
              "      flex-wrap:wrap;\n",
              "      gap: 12px;\n",
              "    }\n",
              "\n",
              "    .colab-df-convert {\n",
              "      background-color: #E8F0FE;\n",
              "      border: none;\n",
              "      border-radius: 50%;\n",
              "      cursor: pointer;\n",
              "      display: none;\n",
              "      fill: #1967D2;\n",
              "      height: 32px;\n",
              "      padding: 0 0 0 0;\n",
              "      width: 32px;\n",
              "    }\n",
              "\n",
              "    .colab-df-convert:hover {\n",
              "      background-color: #E2EBFA;\n",
              "      box-shadow: 0px 1px 2px rgba(60, 64, 67, 0.3), 0px 1px 3px 1px rgba(60, 64, 67, 0.15);\n",
              "      fill: #174EA6;\n",
              "    }\n",
              "\n",
              "    [theme=dark] .colab-df-convert {\n",
              "      background-color: #3B4455;\n",
              "      fill: #D2E3FC;\n",
              "    }\n",
              "\n",
              "    [theme=dark] .colab-df-convert:hover {\n",
              "      background-color: #434B5C;\n",
              "      box-shadow: 0px 1px 3px 1px rgba(0, 0, 0, 0.15);\n",
              "      filter: drop-shadow(0px 1px 2px rgba(0, 0, 0, 0.3));\n",
              "      fill: #FFFFFF;\n",
              "    }\n",
              "  </style>\n",
              "\n",
              "      <script>\n",
              "        const buttonEl =\n",
              "          document.querySelector('#df-0033de86-f56b-4281-a002-6a763524f7d6 button.colab-df-convert');\n",
              "        buttonEl.style.display =\n",
              "          google.colab.kernel.accessAllowed ? 'block' : 'none';\n",
              "\n",
              "        async function convertToInteractive(key) {\n",
              "          const element = document.querySelector('#df-0033de86-f56b-4281-a002-6a763524f7d6');\n",
              "          const dataTable =\n",
              "            await google.colab.kernel.invokeFunction('convertToInteractive',\n",
              "                                                     [key], {});\n",
              "          if (!dataTable) return;\n",
              "\n",
              "          const docLinkHtml = 'Like what you see? Visit the ' +\n",
              "            '<a target=\"_blank\" href=https://colab.research.google.com/notebooks/data_table.ipynb>data table notebook</a>'\n",
              "            + ' to learn more about interactive tables.';\n",
              "          element.innerHTML = '';\n",
              "          dataTable['output_type'] = 'display_data';\n",
              "          await google.colab.output.renderOutput(dataTable, element);\n",
              "          const docLink = document.createElement('div');\n",
              "          docLink.innerHTML = docLinkHtml;\n",
              "          element.appendChild(docLink);\n",
              "        }\n",
              "      </script>\n",
              "    </div>\n",
              "  </div>\n",
              "  "
            ]
          },
          "metadata": {},
          "execution_count": 3
        }
      ]
    },
    {
      "cell_type": "code",
      "source": [
        "class Reim():\n",
        "  \"\"\"Reimann interpretation of dealing with price data\n",
        "  where a change in data is a bridge that  one will cross\n",
        "  once one get there\"\"\"\n",
        "  def fit(self,X,y,n=1):\n",
        "    self.X=X\n",
        "    exX=np.log(X)\n",
        "    exy=np.log(y)\n",
        "    self.w=np.polyfit(exX,exy,n)\n",
        "  def predict(self,X,y,show=False):\n",
        "    \"\"\"y=exp(log(y))=exp(exy)=exp(w1*exX+w0)=exp(w1*log(X)+w0)=Xexp(w1)exp(w0/X)=Xexp(w1+w0/X)\"\"\"\n",
        "    y_hat=(X * np.exp(np.sum(self.w[0]) + (self.w[0] / X))) / (4.54 * ((self.w[1]) * np.ones(len(X)) + ((self.w[0]) * np.ones(len(X))) / (X * np.ones(len(X)))) ** .5) #- diff * np.ones(len(X))\n",
        "     \n",
        "    #y_hat=np.exp((np.sum(self.w[0])*(np.ones(len(X)))+(self.w[0])*(np.ones(len(X))/(X))*(np.ones(len(X)))))*(X)/(4.54*((self.w[1])*(np.ones(len(X)))+((self.w[0])*(np.ones(len(X)))/((X)*(np.ones(len(X))))))**.5)\n",
        "    #y_hat=np.exp((np.sum(self.w[0])*(np.ones(len(X)))+(self.w[0])*(np.ones(len(X))/(X))*(np.ones(len(X)))))*(X)/(np.pi*((self.w[1])*(np.ones(len(X)))+((self.w[0])*(np.ones(len(X)))/((X)*(np.ones(len(X))))))**.125)\n",
        "    if show:\n",
        "      plt.figure()\n",
        "      plt.scatter(range(len(X)),y)\n",
        "      plt.plot(range(len(X)),y_hat, color='magenta')\n",
        "      plt.plot(range(len(X)),np.exp(self.w[0]*(np.ones(len(X)))), color='green')\n",
        "      plt.plot(range(len(X)),((np.mean(self.X)-np.std(self.X))*(np.ones(len(X)))), color='yellow')\n",
        "      plt.show()\n",
        "    return y_hat\n"
      ],
      "metadata": {
        "id": "_D-9QU98q8wU"
      },
      "execution_count": 4,
      "outputs": []
    },
    {
      "cell_type": "code",
      "source": [
        "X=df.Open[0:150]\n",
        "y=df.Close[0:150]\n",
        "X1=df.Open[150:]\n",
        "y1=df.Close[150:]"
      ],
      "metadata": {
        "id": "ZGDr-UsRwmV1"
      },
      "execution_count": 5,
      "outputs": []
    },
    {
      "cell_type": "code",
      "source": [
        "r=Reim()\n",
        "\n",
        "r.fit(X,y)\n",
        "y_hat=r.predict(X1,y1,show=True)"
      ],
      "metadata": {
        "colab": {
          "base_uri": "https://localhost:8080/",
          "height": 430
        },
        "id": "N-Ub-Nrevo6I",
        "outputId": "cab5da95-4d11-4d0c-8419-94597dc311b8"
      },
      "execution_count": 6,
      "outputs": [
        {
          "output_type": "display_data",
          "data": {
            "text/plain": [
              "<Figure size 640x480 with 1 Axes>"
            ],
            "image/png": "[encoded data removed]"
          },
          "metadata": {}
        }
      ]
    },
    {
      "cell_type": "code",
      "source": [
        "y_hat"
      ],
      "metadata": {
        "colab": {
          "base_uri": "https://localhost:8080/"
        },
        "id": "zjHKWK7SA1iG",
        "outputId": "3a5e034f-4627-4dee-d24c-b92bb9131251"
      },
      "execution_count": 7,
      "outputs": [
        {
          "output_type": "execute_result",
          "data": {
            "text/plain": [
              "Date\n",
              "2021-06-29    2.015672\n",
              "2021-06-30    2.011438\n",
              "2021-07-01    2.009839\n",
              "2021-07-02    2.002189\n",
              "2021-07-05    2.010033\n",
              "                ...   \n",
              "2022-11-24    1.822132\n",
              "2022-11-25    1.825351\n",
              "2022-11-28    1.820319\n",
              "2022-11-29    1.810505\n",
              "2022-11-30    1.808570\n",
              "Name: Open, Length: 372, dtype: float64"
            ]
          },
          "metadata": {},
          "execution_count": 7
        }
      ]
    },
    {
      "cell_type": "markdown",
      "source": [
        "### The following is number is the treshold at which they should have taken heed and the second is the confidence\n",
        "\n"
      ],
      "metadata": {
        "id": "P3iqKyd62Tvw"
      }
    },
    {
      "cell_type": "code",
      "source": [
        "diff = y_hat[0]-y1[0]"
      ],
      "metadata": {
        "id": "1SjJDBGDdc2r"
      },
      "execution_count": 8,
      "outputs": []
    },
    {
      "cell_type": "code",
      "source": [
        "class Reim():\n",
        "  \"\"\"Reimann interpretation of dealing with price data\n",
        "  where a change in data is a bridge that  one will cross\n",
        "  once one get there\"\"\"\n",
        "  def fit(self,X,y,n=1):\n",
        "    self.X=X\n",
        "    exX=np.exp(X)\n",
        "    exy=np.exp(y)\n",
        "    self.w=np.polyfit(exX,exy,n)\n",
        "  def predict(self,X,y,diff,show=False):\n",
        "    y_hat=np.array([(X * np.exp(np.sum(self.w[0]) + (self.w[0] / X))) / (4.54 * ((self.w[1]) * np.ones(len(X)) + ((self.w[0]) * np.ones(len(X))) / (X * np.ones(len(X)))) ** .5) - diff * np.ones(len(X)),((self.w[1]) * np.ones(len(X))),((self.w[0]) * np.ones(len(X)))])\n",
        "\n",
        "    if show:\n",
        "        plt.figure()\n",
        "        plt.scatter(range(len(X)),y)\n",
        "        plt.plot(range(len(X)),y_hat[0,:], color='magenta')\n",
        "        plt.plot(range(len(X)),(np.max(X)*(np.ones(len(X)))), color='black')\n",
        "        plt.plot(range(len(X)),(np.min(X)*(np.ones(len(X)))), color='red')\n",
        "        plt.plot(range(len(X)),((np.max(self.X)-(self.w[0]))*(np.ones(len(X)))), color='cyan')\n",
        "        plt.plot(range(len(X)),((np.mean(self.X)-np.std(self.X))*(np.ones(len(X)))), color='yellow')\n",
        "        plt.show()\n",
        "    return y_hat"
      ],
      "metadata": {
        "id": "oLRP0HH-b45x"
      },
      "execution_count": 9,
      "outputs": []
    },
    {
      "cell_type": "code",
      "source": [
        "r=Reim()\n",
        "r.fit(X,y)\n",
        "y_hat=r.predict(df.Open,df.Close, diff ,show=True)"
      ],
      "metadata": {
        "colab": {
          "base_uri": "https://localhost:8080/",
          "height": 430
        },
        "id": "MlxSEvX7Q6T2",
        "outputId": "62af5bbe-986e-4da1-9cb3-7c68d0654c2c"
      },
      "execution_count": 10,
      "outputs": [
        {
          "output_type": "display_data",
          "data": {
            "text/plain": [
              "<Figure size 640x480 with 1 Axes>"
            ],
            "image/png": "[encoded data removed]"
          },
          "metadata": {}
        }
      ]
    },
    {
      "cell_type": "code",
      "source": [
        "print(np.exp(r.w[0]),np.exp(r.w[1]),np.std(X))"
      ],
      "metadata": {
        "colab": {
          "base_uri": "https://localhost:8080/"
        },
        "id": "Am-4UjcdRGfr",
        "outputId": "85b0bf68-81ed-4f84-decb-5a549126e6ee"
      },
      "execution_count": 11,
      "outputs": [
        {
          "output_type": "stream",
          "name": "stdout",
          "text": [
            "2.7216262850168222 0.9951803662273925 0.02333549571201979\n"
          ]
        }
      ]
    },
    {
      "cell_type": "code",
      "source": [
        "print('stdactual :',y1[-60:].std(),' stdpred :',y_hat[0,-60:].std(),' sdtdiff :',np.abs(df.Close-y_hat[0,:]).mean())\n",
        "print('actual :',list(y1[-5:]),'\\n' , 'pred :',y_hat[0,-5:])"
      ],
      "metadata": {
        "colab": {
          "base_uri": "https://localhost:8080/"
        },
        "id": "MAG7MbkLB_EI",
        "outputId": "21fe3322-50c0-497a-cd9f-988b0eaade02"
      },
      "execution_count": 12,
      "outputs": [
        {
          "output_type": "stream",
          "name": "stdout",
          "text": [
            "stdactual : 0.0328651418449661  stdpred : 0.031595915951068525  sdtdiff : 0.005270308078651885\n",
            "actual : [1.2073503732681274, 1.2113430500030518, 1.2054728269577026, 1.1960291862487793, 1.1946860551834106] \n",
            " pred : [1.19947491 1.20271524 1.19764914 1.18776909 1.18582101]\n"
          ]
        }
      ]
    },
    {
      "cell_type": "code",
      "source": [
        "df.describe()"
      ],
      "metadata": {
        "id": "VWUtSikl2y6q",
        "colab": {
          "base_uri": "https://localhost:8080/",
          "height": 300
        },
        "outputId": "5c21f09a-6f97-42e2-83db-9ba30a940f5b"
      },
      "execution_count": 13,
      "outputs": [
        {
          "output_type": "execute_result",
          "data": {
            "text/plain": [
              "             Open       Close\n",
              "count  522.000000  522.000000\n",
              "mean     1.312090    1.312091\n",
              "std      0.087553    0.087563\n",
              "min      1.072846    1.072754\n",
              "25%      1.235430    1.235716\n",
              "50%      1.349865    1.349978\n",
              "75%      1.377932    1.377966\n",
              "max      1.422758    1.422678"
            ],
            "text/html": [
              "\n",
              "  <div id=\"df-c5f226d5-dd09-451a-a2b1-f1d99a71146f\">\n",
              "    <div class=\"colab-df-container\">\n",
              "      <div>\n",
              "<style scoped>\n",
              "    .dataframe tbody tr th:only-of-type {\n",
              "        vertical-align: middle;\n",
              "    }\n",
              "\n",
              "    .dataframe tbody tr th {\n",
              "        vertical-align: top;\n",
              "    }\n",
              "\n",
              "    .dataframe thead th {\n",
              "        text-align: right;\n",
              "    }\n",
              "</style>\n",
              "<table border=\"1\" class=\"dataframe\">\n",
              "  <thead>\n",
              "    <tr style=\"text-align: right;\">\n",
              "      <th></th>\n",
              "      <th>Open</th>\n",
              "      <th>Close</th>\n",
              "    </tr>\n",
              "  </thead>\n",
              "  <tbody>\n",
              "    <tr>\n",
              "      <th>count</th>\n",
              "      <td>522.000000</td>\n",
              "      <td>522.000000</td>\n",
              "    </tr>\n",
              "    <tr>\n",
              "      <th>mean</th>\n",
              "      <td>1.312090</td>\n",
              "      <td>1.312091</td>\n",
              "    </tr>\n",
              "    <tr>\n",
              "      <th>std</th>\n",
              "      <td>0.087553</td>\n",
              "      <td>0.087563</td>\n",
              "    </tr>\n",
              "    <tr>\n",
              "      <th>min</th>\n",
              "      <td>1.072846</td>\n",
              "      <td>1.072754</td>\n",
              "    </tr>\n",
              "    <tr>\n",
              "      <th>25%</th>\n",
              "      <td>1.235430</td>\n",
              "      <td>1.235716</td>\n",
              "    </tr>\n",
              "    <tr>\n",
              "      <th>50%</th>\n",
              "      <td>1.349865</td>\n",
              "      <td>1.349978</td>\n",
              "    </tr>\n",
              "    <tr>\n",
              "      <th>75%</th>\n",
              "      <td>1.377932</td>\n",
              "      <td>1.377966</td>\n",
              "    </tr>\n",
              "    <tr>\n",
              "      <th>max</th>\n",
              "      <td>1.422758</td>\n",
              "      <td>1.422678</td>\n",
              "    </tr>\n",
              "  </tbody>\n",
              "</table>\n",
              "</div>\n",
              "      <button class=\"colab-df-convert\" onclick=\"convertToInteractive('df-c5f226d5-dd09-451a-a2b1-f1d99a71146f')\"\n",
              "              title=\"Convert this dataframe to an interactive table.\"\n",
              "              style=\"display:none;\">\n",
              "        \n",
              "  <svg xmlns=\"http://www.w3.org/2000/svg\" height=\"24px\"viewBox=\"0 0 24 24\"\n",
              "       width=\"24px\">\n",
              "    <path d=\"M0 0h24v24H0V0z\" fill=\"none\"/>\n",
              "    <path d=\"M18.56 5.44l.94 2.06.94-2.06 2.06-.94-2.06-.94-.94-2.06-.94 2.06-2.06.94zm-11 1L8.5 8.5l.94-2.06 2.06-.94-2.06-.94L8.5 2.5l-.94 2.06-2.06.94zm10 10l.94 2.06.94-2.06 2.06-.94-2.06-.94-.94-2.06-.94 2.06-2.06.94z\"/><path d=\"M17.41 7.96l-1.37-1.37c-.4-.4-.92-.59-1.43-.59-.52 0-1.04.2-1.43.59L10.3 9.45l-7.72 7.72c-.78.78-.78 2.05 0 2.83L4 21.41c.39.39.9.59 1.41.59.51 0 1.02-.2 1.41-.59l7.78-7.78 2.81-2.81c.8-.78.8-2.07 0-2.86zM5.41 20L4 18.59l7.72-7.72 1.47 1.35L5.41 20z\"/>\n",
              "  </svg>\n",
              "      </button>\n",
              "      \n",
              "  <style>\n",
              "    .colab-df-container {\n",
              "      display:flex;\n",
              "      flex-wrap:wrap;\n",
              "      gap: 12px;\n",
              "    }\n",
              "\n",
              "    .colab-df-convert {\n",
              "      background-color: #E8F0FE;\n",
              "      border: none;\n",
              "      border-radius: 50%;\n",
              "      cursor: pointer;\n",
              "      display: none;\n",
              "      fill: #1967D2;\n",
              "      height: 32px;\n",
              "      padding: 0 0 0 0;\n",
              "      width: 32px;\n",
              "    }\n",
              "\n",
              "    .colab-df-convert:hover {\n",
              "      background-color: #E2EBFA;\n",
              "      box-shadow: 0px 1px 2px rgba(60, 64, 67, 0.3), 0px 1px 3px 1px rgba(60, 64, 67, 0.15);\n",
              "      fill: #174EA6;\n",
              "    }\n",
              "\n",
              "    [theme=dark] .colab-df-convert {\n",
              "      background-color: #3B4455;\n",
              "      fill: #D2E3FC;\n",
              "    }\n",
              "\n",
              "    [theme=dark] .colab-df-convert:hover {\n",
              "      background-color: #434B5C;\n",
              "      box-shadow: 0px 1px 3px 1px rgba(0, 0, 0, 0.15);\n",
              "      filter: drop-shadow(0px 1px 2px rgba(0, 0, 0, 0.3));\n",
              "      fill: #FFFFFF;\n",
              "    }\n",
              "  </style>\n",
              "\n",
              "      <script>\n",
              "        const buttonEl =\n",
              "          document.querySelector('#df-c5f226d5-dd09-451a-a2b1-f1d99a71146f button.colab-df-convert');\n",
              "        buttonEl.style.display =\n",
              "          google.colab.kernel.accessAllowed ? 'block' : 'none';\n",
              "\n",
              "        async function convertToInteractive(key) {\n",
              "          const element = document.querySelector('#df-c5f226d5-dd09-451a-a2b1-f1d99a71146f');\n",
              "          const dataTable =\n",
              "            await google.colab.kernel.invokeFunction('convertToInteractive',\n",
              "                                                     [key], {});\n",
              "          if (!dataTable) return;\n",
              "\n",
              "          const docLinkHtml = 'Like what you see? Visit the ' +\n",
              "            '<a target=\"_blank\" href=https://colab.research.google.com/notebooks/data_table.ipynb>data table notebook</a>'\n",
              "            + ' to learn more about interactive tables.';\n",
              "          element.innerHTML = '';\n",
              "          dataTable['output_type'] = 'display_data';\n",
              "          await google.colab.output.renderOutput(dataTable, element);\n",
              "          const docLink = document.createElement('div');\n",
              "          docLink.innerHTML = docLinkHtml;\n",
              "          element.appendChild(docLink);\n",
              "        }\n",
              "      </script>\n",
              "    </div>\n",
              "  </div>\n",
              "  "
            ]
          },
          "metadata": {},
          "execution_count": 13
        }
      ]
    },
    {
      "cell_type": "markdown",
      "source": [
        "According to the site https://www.macrotrends.net/countries/GBR/united-kingdom/gdp-gross-domestic-product\n",
        "the British Economy was worth: $2,704.61B"
      ],
      "metadata": {
        "id": "svpc-aKWmg4E"
      }
    },
    {
      "cell_type": "code",
      "source": [
        "print('in £B :',2704.61/1.22)"
      ],
      "metadata": {
        "colab": {
          "base_uri": "https://localhost:8080/"
        },
        "id": "MK9H-BdWY30t",
        "outputId": "f5adc5db-090d-4a5c-feab-8dc8c941d9b6"
      },
      "execution_count": 14,
      "outputs": [
        {
          "output_type": "stream",
          "name": "stdout",
          "text": [
            "in £B : 2216.893442622951\n"
          ]
        }
      ]
    },
    {
      "cell_type": "markdown",
      "source": [
        "9L =I1+I2. integral(exp())=L=I1+I2/4.5pi(m-c)exp(2pix(m-c)/L) = cos(L/2pi(m-c)x)*(exp(pix(m-c)/L))/(4.5pi(m-c)) where x=9, L=3.7, m=N=mean, c=std"
      ],
      "metadata": {
        "id": "B1iVCFQwokKw"
      }
    },
    {
      "cell_type": "code",
      "source": [
        "x=9\n",
        "L=4.5 \n",
        "m=df.Close.describe()[1]\n",
        "c=df.Close.describe()[2]\n",
        "sup=np.cos(L/(2*np.pi*(m-c)*x))*(np.exp(np.pi*x*(m-c)/L))/(4.5*np.pi*(m-c))\n",
        "sup"
      ],
      "metadata": {
        "colab": {
          "base_uri": "https://localhost:8080/"
        },
        "id": "Kwq1hCJ_oBgA",
        "outputId": "e4ca6ee6-df30-497b-971e-eb6f70b9e9eb"
      },
      "execution_count": 15,
      "outputs": [
        {
          "output_type": "execute_result",
          "data": {
            "text/plain": [
              "126.5276251997415"
            ]
          },
          "metadata": {},
          "execution_count": 15
        }
      ]
    },
    {
      "cell_type": "markdown",
      "source": [
        "The supression would do it's  job and or qunatitative easing "
      ],
      "metadata": {
        "id": "CNjdn1iE9P3h"
      }
    },
    {
      "cell_type": "code",
      "source": [
        "\n",
        "supunchecked=np.cos(L/(2*np.pi*(m)*x))*(np.exp(np.pi*x*(m)/L))/(4.5*np.pi*(m))\n",
        "supunchecked"
      ],
      "metadata": {
        "colab": {
          "base_uri": "https://localhost:8080/"
        },
        "id": "An7eK3FO68_6",
        "outputId": "3f47561a-0e76-4fe5-d068-3164dc1ef3cb"
      },
      "execution_count": 16,
      "outputs": [
        {
          "output_type": "execute_result",
          "data": {
            "text/plain": [
              "204.760967972703"
            ]
          },
          "metadata": {},
          "execution_count": 16
        }
      ]
    },
    {
      "cell_type": "markdown",
      "source": [
        "Unchecked it would cumulate into hazardous Richter of degenerate googles or looks"
      ],
      "metadata": {
        "id": "p3hPxE-r9jI9"
      }
    },
    {
      "cell_type": "code",
      "source": [
        "x=9\n",
        "L=4.5 \n",
        "m=0\n",
        "c=df.Close.describe()[2]\n",
        "sup=np.cos(L/(2*np.pi*(m-c)*x))*(np.exp(np.pi*x*(m-c)/L))/(4.5*np.pi*(m-c))\n",
        "sup"
      ],
      "metadata": {
        "colab": {
          "base_uri": "https://localhost:8080/"
        },
        "id": "83geY4JOHyuP",
        "outputId": "ac4e3b3d-dbfd-4d05-b299-5bd6f824d68c"
      },
      "execution_count": 17,
      "outputs": [
        {
          "output_type": "execute_result",
          "data": {
            "text/plain": [
              "-0.2864410446278082"
            ]
          },
          "metadata": {},
          "execution_count": 17
        }
      ]
    },
    {
      "cell_type": "code",
      "source": [
        "x=9\n",
        "L=4.5 \n",
        "m=np.linspace(-.0,.251,100,.0005)\n",
        "c=df.Close.describe()[2]\n",
        "sup=np.cos(L/(2*np.pi*(m-c)*x))*(np.exp(np.pi*x*(m-c)/L))/(4.5*np.pi*(m-c))\n",
        "plt.plot(m,sup)"
      ],
      "metadata": {
        "colab": {
          "base_uri": "https://localhost:8080/",
          "height": 447
        },
        "id": "f3SSNPcsIHKE",
        "outputId": "d1cd10e8-94b3-4a48-bed3-8ce503137346"
      },
      "execution_count": 18,
      "outputs": [
        {
          "output_type": "execute_result",
          "data": {
            "text/plain": [
              "[<matplotlib.lines.Line2D at 0x7fd4b43c6e50>]"
            ]
          },
          "metadata": {},
          "execution_count": 18
        },
        {
          "output_type": "display_data",
          "data": {
            "text/plain": [
              "<Figure size 640x480 with 1 Axes>"
            ],
            "image/png": "[encoded data removed]"
          },
          "metadata": {}
        }
      ]
    },
    {
      "cell_type": "markdown",
      "source": [
        "In Quantum theory these suppressions are of the nature pi-orbitals."
      ],
      "metadata": {
        "id": "aNvkgpl1P_YE"
      }
    },
    {
      "cell_type": "code",
      "source": [
        "plt.plot(m,sup**2)"
      ],
      "metadata": {
        "colab": {
          "base_uri": "https://localhost:8080/",
          "height": 447
        },
        "id": "fo-l-Xj0LF4v",
        "outputId": "3192420d-7ba8-4bbf-a694-0fff1a55118c"
      },
      "execution_count": 19,
      "outputs": [
        {
          "output_type": "execute_result",
          "data": {
            "text/plain": [
              "[<matplotlib.lines.Line2D at 0x7fd4b43364f0>]"
            ]
          },
          "metadata": {},
          "execution_count": 19
        },
        {
          "output_type": "display_data",
          "data": {
            "text/plain": [
              "<Figure size 640x480 with 1 Axes>"
            ],
            "image/png": "[encoded data removed]"
          },
          "metadata": {}
        }
      ]
    },
    {
      "cell_type": "code",
      "source": [
        "print(df.Close.describe()[1],m-c)"
      ],
      "metadata": {
        "colab": {
          "base_uri": "https://localhost:8080/"
        },
        "id": "zhNYgnGdBbdc",
        "outputId": "e6c29c84-d5dd-4daa-aa4c-451fa85da7b0"
      },
      "execution_count": 20,
      "outputs": [
        {
          "output_type": "stream",
          "name": "stdout",
          "text": [
            "1.3120913669980805 [-0.08756334 -0.08502798 -0.08249263 -0.07995728 -0.07742192 -0.07488657\n",
            " -0.07235122 -0.06981586 -0.06728051 -0.06474515 -0.0622098  -0.05967445\n",
            " -0.05713909 -0.05460374 -0.05206839 -0.04953303 -0.04699768 -0.04446233\n",
            " -0.04192697 -0.03939162 -0.03685627 -0.03432091 -0.03178556 -0.02925021\n",
            " -0.02671485 -0.0241795  -0.02164414 -0.01910879 -0.01657344 -0.01403808\n",
            " -0.01150273 -0.00896738 -0.00643202 -0.00389667 -0.00136132  0.00117404\n",
            "  0.00370939  0.00624474  0.0087801   0.01131545  0.01385081  0.01638616\n",
            "  0.01892151  0.02145687  0.02399222  0.02652757  0.02906293  0.03159828\n",
            "  0.03413363  0.03666899  0.03920434  0.04173969  0.04427505  0.0468104\n",
            "  0.04934575  0.05188111  0.05441646  0.05695182  0.05948717  0.06202252\n",
            "  0.06455788  0.06709323  0.06962858  0.07216394  0.07469929  0.07723464\n",
            "  0.07977     0.08230535  0.0848407   0.08737606  0.08991141  0.09244676\n",
            "  0.09498212  0.09751747  0.10005283  0.10258818  0.10512353  0.10765889\n",
            "  0.11019424  0.11272959  0.11526495  0.1178003   0.12033565  0.12287101\n",
            "  0.12540636  0.12794171  0.13047707  0.13301242  0.13554777  0.13808313\n",
            "  0.14061848  0.14315384  0.14568919  0.14822454  0.1507599   0.15329525\n",
            "  0.1558306   0.15836596  0.16090131  0.16343666]\n"
          ]
        }
      ]
    },
    {
      "cell_type": "code",
      "source": [
        "x=9\n",
        "L=4.5\n",
        "t=np.linspace(0,5,1000) \n",
        "m=df.Close.describe()[1]\n",
        "c=.25*t*4\n",
        "sup=np.cos(L/(2*np.pi*(m-c)*x))*(np.exp(np.pi*x*(m-c)/L))/(4.5*np.pi*(m-c))\n",
        "plt.plot(t,sup)\n",
        "plt.xlabel('years of suppression')\n",
        "plt.ylabel('25% bp quarter suppression')\n",
        "plt.title('How long it would take for minium to be attained')"
      ],
      "metadata": {
        "colab": {
          "base_uri": "https://localhost:8080/",
          "height": 489
        },
        "id": "IN1aX_WfQ8NF",
        "outputId": "fbd1c5d8-ecfa-4f9d-8e4f-6f620a426023"
      },
      "execution_count": 32,
      "outputs": [
        {
          "output_type": "execute_result",
          "data": {
            "text/plain": [
              "Text(0.5, 1.0, 'How long it would take for minium to be attained')"
            ]
          },
          "metadata": {},
          "execution_count": 32
        },
        {
          "output_type": "display_data",
          "data": {
            "text/plain": [
              "<Figure size 640x480 with 1 Axes>"
            ],
            "image/png": "[encoded data removed]"
          },
          "metadata": {}
        }
      ]
    },
    {
      "cell_type": "code",
      "source": [
        "x=9\n",
        "L=4.5 \n",
        "m=df.Close.describe()[1]\n",
        "c=.25*t[sup==np.min(sup)]*4\n",
        "supcor=np.cos(L/(2*np.pi*(m-c)*x))*(np.exp(np.pi*x*(m-c)/L))/(4.5*np.pi*(m-c))\n",
        "supcor"
      ],
      "metadata": {
        "colab": {
          "base_uri": "https://localhost:8080/"
        },
        "id": "xz82xqPBNX4J",
        "outputId": "7748b462-b64e-44f3-dff7-3c8d9aa22ea5"
      },
      "execution_count": 33,
      "outputs": [
        {
          "output_type": "execute_result",
          "data": {
            "text/plain": [
              "array([-16.30204469])"
            ]
          },
          "metadata": {},
          "execution_count": 33
        }
      ]
    },
    {
      "cell_type": "markdown",
      "source": [
        "Where a soft landing is attained if condition are the same between 1 and 1 a half year"
      ],
      "metadata": {
        "id": "4wqoLeWFVRG6"
      }
    },
    {
      "cell_type": "code",
      "source": [
        "float(t[sup==supcor])"
      ],
      "metadata": {
        "colab": {
          "base_uri": "https://localhost:8080/"
        },
        "id": "iZMBXTHxT-Xb",
        "outputId": "ed5c4ccc-774b-4950-df50-82db02f0ea1e"
      },
      "execution_count": 34,
      "outputs": [
        {
          "output_type": "execute_result",
          "data": {
            "text/plain": [
              "1.3163163163163163"
            ]
          },
          "metadata": {},
          "execution_count": 34
        }
      ]
    },
    {
      "cell_type": "markdown",
      "source": [
        "Estimated cost of South African Covid variant and similar behavior if 25 basis points is about 4.25 % of British Economy according to https://www.hellenicshippingnews.com/bank-of-england-to-lift-bank-rate-25-basis-points-to-4-25-in-march-then-pause-reuters-poll/ and what the British Economy was worth in 2020:"
      ],
      "metadata": {
        "id": "qPyLLdV5aA9V"
      }
    },
    {
      "cell_type": "code",
      "source": [
        "float(t[sup==supcor])*4.25/100*4*2217"
      ],
      "metadata": {
        "colab": {
          "base_uri": "https://localhost:8080/"
        },
        "id": "stkP5txFToC-",
        "outputId": "f38fa543-b100-4379-ef2b-2850832db415"
      },
      "execution_count": 35,
      "outputs": [
        {
          "output_type": "execute_result",
          "data": {
            "text/plain": [
              "496.10645645645644"
            ]
          },
          "metadata": {},
          "execution_count": 35
        }
      ]
    },
    {
      "cell_type": "markdown",
      "source": [
        "### Is about £ 496.1 Billion"
      ],
      "metadata": {
        "id": "rsO_slq0a_el"
      }
    },
    {
      "cell_type": "markdown",
      "source": [
        "### Here is the general suppression"
      ],
      "metadata": {
        "id": "cv1OHCwpS5bw"
      }
    },
    {
      "cell_type": "code",
      "source": [
        "x=9\n",
        "L=4.5 \n",
        "m=1.25\n",
        "c=.25*1*4\n",
        "sup=np.cos(L/(2*np.pi*(m-c)*x))*(np.exp(np.pi*x*(m-c)/L))/(4.5*np.pi*(m-c))\n",
        "sup"
      ],
      "metadata": {
        "colab": {
          "base_uri": "https://localhost:8080/"
        },
        "id": "n0HuiOlIO1bk",
        "outputId": "12284802-3e94-47ff-fc8a-2719dcde50c1"
      },
      "execution_count": 25,
      "outputs": [
        {
          "output_type": "execute_result",
          "data": {
            "text/plain": [
              "1.2927134581001924"
            ]
          },
          "metadata": {},
          "execution_count": 25
        }
      ]
    },
    {
      "cell_type": "markdown",
      "source": [
        "### Where this equation can be use else where"
      ],
      "metadata": {
        "id": "TLs4zkTIcw_V"
      }
    },
    {
      "cell_type": "markdown",
      "source": [
        "These are Older MCAT numbers"
      ],
      "metadata": {
        "id": "b6cnyKjYcfK9"
      }
    },
    {
      "cell_type": "code",
      "source": [
        "x=9\n",
        "L=3.7 \n",
        "m=0\n",
        "c=1/100000\n",
        "sup=np.cos(L/(2*np.pi*(m-c)*x))*(np.exp(np.pi*x*(m-c)/L))/(4.5*np.pi*(m-c))\n",
        "sup"
      ],
      "metadata": {
        "colab": {
          "base_uri": "https://localhost:8080/"
        },
        "id": "Bhc_vd3M-ooc",
        "outputId": "f4e0e4de-e9e4-42c1-9261-e51d7d44f754"
      },
      "execution_count": 26,
      "outputs": [
        {
          "output_type": "execute_result",
          "data": {
            "text/plain": [
              "4391.400207264565"
            ]
          },
          "metadata": {},
          "execution_count": 26
        }
      ]
    },
    {
      "cell_type": "markdown",
      "source": [
        "These are LSAT numbers"
      ],
      "metadata": {
        "id": "e9_WCx2scoip"
      }
    },
    {
      "cell_type": "code",
      "source": [
        "x=3*360\n",
        "L=150 \n",
        "m=0\n",
        "c=1/100000\n",
        "sup=np.cos(L/(2*np.pi*(m-c)*x))*(np.exp(np.pi*x*(m-c)/L))/(4.5*np.pi*(m-c))\n",
        "sup"
      ],
      "metadata": {
        "colab": {
          "base_uri": "https://localhost:8080/"
        },
        "id": "ZySg2PbcAH0Y",
        "outputId": "af782233-1908-463a-98f8-8761f94b7ca3"
      },
      "execution_count": 27,
      "outputs": [
        {
          "output_type": "execute_result",
          "data": {
            "text/plain": [
              "-2589.5312104675427"
            ]
          },
          "metadata": {},
          "execution_count": 27
        }
      ]
    }
  ]
}